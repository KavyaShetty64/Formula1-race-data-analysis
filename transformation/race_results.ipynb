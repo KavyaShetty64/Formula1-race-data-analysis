{
 "cells": [
  {
   "cell_type": "markdown",
   "metadata": {
    "application/vnd.databricks.v1+cell": {
     "cellMetadata": {
      "byteLimit": 2048000,
      "rowLimit": 10000
     },
     "inputWidgets": {},
     "nuid": "c2f865cd-f157-412d-a93b-cacd6124c530",
     "showTitle": false,
     "title": ""
    }
   },
   "source": [
    "##### Read all the data as required"
   ]
  },
  {
   "cell_type": "code",
   "execution_count": 0,
   "metadata": {
    "application/vnd.databricks.v1+cell": {
     "cellMetadata": {
      "byteLimit": 2048000,
      "rowLimit": 10000
     },
     "inputWidgets": {},
     "nuid": "98afcb53-1ab1-40b4-b973-38438ebcdd8c",
     "showTitle": false,
     "title": ""
    }
   },
   "outputs": [],
   "source": [
    "dbutils.widgets.text(\"p_file_date\", \"2021-03-21\")\n",
    "v_file_date = dbutils.widgets.get(\"p_file_date\")"
   ]
  },
  {
   "cell_type": "code",
   "execution_count": 0,
   "metadata": {
    "application/vnd.databricks.v1+cell": {
     "cellMetadata": {
      "byteLimit": 2048000,
      "rowLimit": 10000
     },
     "inputWidgets": {},
     "nuid": "b2bcabd7-68aa-4bd7-91a4-95ed75a7d21a",
     "showTitle": false,
     "title": ""
    }
   },
   "outputs": [],
   "source": [
    "%run \"../includes/configuration\""
   ]
  },
  {
   "cell_type": "code",
   "execution_count": 0,
   "metadata": {
    "application/vnd.databricks.v1+cell": {
     "cellMetadata": {
      "byteLimit": 2048000,
      "rowLimit": 10000
     },
     "inputWidgets": {},
     "nuid": "64ae41a3-0117-49d1-8f2c-bc3bd3577eb1",
     "showTitle": false,
     "title": ""
    }
   },
   "outputs": [],
   "source": [
    "%run \"../includes/common_functions\""
   ]
  },
  {
   "cell_type": "code",
   "execution_count": 0,
   "metadata": {
    "application/vnd.databricks.v1+cell": {
     "cellMetadata": {
      "byteLimit": 2048000,
      "rowLimit": 10000
     },
     "inputWidgets": {},
     "nuid": "6099af61-b50a-4848-bf24-29c44de9553c",
     "showTitle": false,
     "title": ""
    }
   },
   "outputs": [],
   "source": [
    "drivers_df = spark.read.format(\"delta\").load(f\"{processed_folder_path}/drivers\") \\\n",
    ".withColumnRenamed(\"number\", \"driver_number\") \\\n",
    ".withColumnRenamed(\"name\", \"driver_name\") \\\n",
    ".withColumnRenamed(\"nationality\", \"driver_nationality\") "
   ]
  },
  {
   "cell_type": "code",
   "execution_count": 0,
   "metadata": {
    "application/vnd.databricks.v1+cell": {
     "cellMetadata": {
      "byteLimit": 2048000,
      "rowLimit": 10000
     },
     "inputWidgets": {},
     "nuid": "7083dcec-a8a7-4c36-a507-0c5c4714d2e1",
     "showTitle": false,
     "title": ""
    }
   },
   "outputs": [],
   "source": [
    "constructors_df = spark.read.format(\"delta\").load(f\"{processed_folder_path}/constructors\") \\\n",
    ".withColumnRenamed(\"name\", \"team\") "
   ]
  },
  {
   "cell_type": "code",
   "execution_count": 0,
   "metadata": {
    "application/vnd.databricks.v1+cell": {
     "cellMetadata": {
      "byteLimit": 2048000,
      "rowLimit": 10000
     },
     "inputWidgets": {},
     "nuid": "025729fc-4bdc-492b-b85c-4df4f6066a71",
     "showTitle": false,
     "title": ""
    }
   },
   "outputs": [],
   "source": [
    "circuits_df = spark.read.format(\"delta\").load(f\"{processed_folder_path}/circuits\") \\\n",
    ".withColumnRenamed(\"location\", \"circuit_location\") "
   ]
  },
  {
   "cell_type": "code",
   "execution_count": 0,
   "metadata": {
    "application/vnd.databricks.v1+cell": {
     "cellMetadata": {
      "byteLimit": 2048000,
      "rowLimit": 10000
     },
     "inputWidgets": {},
     "nuid": "499e1403-c4b1-47f0-95be-27e669fc2fe5",
     "showTitle": false,
     "title": ""
    }
   },
   "outputs": [],
   "source": [
    "races_df = spark.read.format(\"delta\").load(f\"{processed_folder_path}/races\") \\\n",
    ".withColumnRenamed(\"name\", \"race_name\") \\\n",
    ".withColumnRenamed(\"race_timestamp\", \"race_date\")"
   ]
  },
  {
   "cell_type": "code",
   "execution_count": 0,
   "metadata": {
    "application/vnd.databricks.v1+cell": {
     "cellMetadata": {
      "byteLimit": 2048000,
      "rowLimit": 10000
     },
     "inputWidgets": {},
     "nuid": "c61524f8-e189-49e1-9111-3539fec647a8",
     "showTitle": false,
     "title": ""
    }
   },
   "outputs": [],
   "source": [
    "results_df = spark.read.format(\"delta\").load(f\"{processed_folder_path}/results\") \\\n",
    ".filter(f\"file_date = '{v_file_date}'\") \\\n",
    ".withColumnRenamed(\"time\", \"race_time\") \\\n",
    ".withColumnRenamed(\"race_id\", \"result_race_id\") \\\n",
    ".withColumnRenamed(\"file_date\", \"result_file_date\") "
   ]
  },
  {
   "cell_type": "markdown",
   "metadata": {
    "application/vnd.databricks.v1+cell": {
     "cellMetadata": {
      "byteLimit": 2048000,
      "rowLimit": 10000
     },
     "inputWidgets": {},
     "nuid": "1af757ca-9dc5-4a3e-b8a4-7e49fa5ebd0f",
     "showTitle": false,
     "title": ""
    }
   },
   "source": [
    "##### Join circuits to races"
   ]
  },
  {
   "cell_type": "code",
   "execution_count": 0,
   "metadata": {
    "application/vnd.databricks.v1+cell": {
     "cellMetadata": {
      "byteLimit": 2048000,
      "rowLimit": 10000
     },
     "inputWidgets": {},
     "nuid": "5ab66293-3da4-4763-b7ab-243d54c6bac9",
     "showTitle": false,
     "title": ""
    }
   },
   "outputs": [],
   "source": [
    "race_circuits_df = races_df.join(circuits_df, races_df.circuit_id == circuits_df.circuit_id, \"inner\") \\\n",
    ".select(races_df.race_id, races_df.race_year, races_df.race_name, races_df.race_date, circuits_df.circuit_location)"
   ]
  },
  {
   "cell_type": "markdown",
   "metadata": {
    "application/vnd.databricks.v1+cell": {
     "cellMetadata": {
      "byteLimit": 2048000,
      "rowLimit": 10000
     },
     "inputWidgets": {},
     "nuid": "672a153e-663a-4fa8-ba45-f567edc760a0",
     "showTitle": false,
     "title": ""
    }
   },
   "source": [
    "##### Join results to all other dataframes"
   ]
  },
  {
   "cell_type": "code",
   "execution_count": 0,
   "metadata": {
    "application/vnd.databricks.v1+cell": {
     "cellMetadata": {
      "byteLimit": 2048000,
      "rowLimit": 10000
     },
     "inputWidgets": {},
     "nuid": "ed1f339a-7ece-45a8-a08c-797edc5a3ad8",
     "showTitle": false,
     "title": ""
    }
   },
   "outputs": [],
   "source": [
    "race_results_df = results_df.join(race_circuits_df, results_df.result_race_id == race_circuits_df.race_id) \\\n",
    "                            .join(drivers_df, results_df.driver_id == drivers_df.driver_id) \\\n",
    "                            .join(constructors_df, results_df.constructor_id == constructors_df.constructor_id)"
   ]
  },
  {
   "cell_type": "code",
   "execution_count": 0,
   "metadata": {
    "application/vnd.databricks.v1+cell": {
     "cellMetadata": {
      "byteLimit": 2048000,
      "rowLimit": 10000
     },
     "inputWidgets": {},
     "nuid": "2b489b05-30a3-47ae-aa52-cff8c494fa35",
     "showTitle": false,
     "title": ""
    }
   },
   "outputs": [],
   "source": [
    "from pyspark.sql.functions import current_timestamp"
   ]
  },
  {
   "cell_type": "code",
   "execution_count": 0,
   "metadata": {
    "application/vnd.databricks.v1+cell": {
     "cellMetadata": {
      "byteLimit": 2048000,
      "rowLimit": 10000
     },
     "inputWidgets": {},
     "nuid": "7166a1be-e51b-45c1-a604-78a2c6988754",
     "showTitle": false,
     "title": ""
    }
   },
   "outputs": [],
   "source": [
    "final_df = race_results_df.select(\"race_id\", \"race_year\", \"race_name\", \"race_date\", \"circuit_location\", \"driver_name\", \"driver_number\", \"driver_nationality\",\"team\", \"grid\", \"fastest_lap\", \"race_time\", \"points\",\"position\", \"result_file_date\") \\\n",
    "    .withColumn(\"created_date\", current_timestamp()) \\\n",
    "    .withColumnRenamed(\"result_file_date\", \"file_date\")"
   ]
  },
  {
   "cell_type": "code",
   "execution_count": 0,
   "metadata": {
    "application/vnd.databricks.v1+cell": {
     "cellMetadata": {
      "byteLimit": 2048000,
      "rowLimit": 10000
     },
     "inputWidgets": {},
     "nuid": "eef08338-1b78-494f-a7bf-e6813b13ab6b",
     "showTitle": false,
     "title": ""
    }
   },
   "outputs": [],
   "source": [
    "merge_condition = \"tgt.driver_name = src.driver_name AND tgt.race_id = src.race_id\"\n",
    "merge_delta_data(final_df, 'f1_presentation', 'race_results', presentation_folder_path, merge_condition, 'race_id')"
   ]
  },
  {
   "cell_type": "code",
   "execution_count": 0,
   "metadata": {
    "application/vnd.databricks.v1+cell": {
     "cellMetadata": {
      "byteLimit": 2048000,
      "rowLimit": 10000
     },
     "inputWidgets": {},
     "nuid": "177197f1-dece-4b7f-8743-726a8348800e",
     "showTitle": false,
     "title": ""
    }
   },
   "outputs": [],
   "source": []
  }
 ],
 "metadata": {
  "application/vnd.databricks.v1+notebook": {
   "dashboards": [],
   "language": "python",
   "notebookMetadata": {
    "mostRecentlyExecutedCommandWithImplicitDF": {
     "commandId": 1555706404662139,
     "dataframes": [
      "_sqldf"
     ]
    },
    "pythonIndentUnit": 4
   },
   "notebookName": "race_results",
   "widgets": {
    "p_file_date": {
     "currentValue": "2021-04-18",
     "nuid": "b1ff43e3-a5d2-437f-b76b-6fa51770702b",
     "widgetInfo": {
      "widgetType": "text",
      "defaultValue": "2021-03-21",
      "label": null,
      "name": "p_file_date",
      "options": {
       "widgetType": "text",
       "validationRegex": null
      }
     }
    }
   }
  }
 },
 "nbformat": 4,
 "nbformat_minor": 0
}
